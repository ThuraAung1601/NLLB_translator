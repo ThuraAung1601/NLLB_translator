{
 "cells": [
  {
   "cell_type": "markdown",
   "id": "9b275fd3",
   "metadata": {},
   "source": [
    "# NLLB_Test_Translator\n",
    "\n",
    "Demo Gradio Interface AI Translator using Facebook's NLLB-200-distilled-600M model."
   ]
  },
  {
   "cell_type": "markdown",
   "id": "bb91b07a",
   "metadata": {},
   "source": [
    "## Overview\n",
    "\n",
    "This project provides an AI translator that supports 200 languages using the NLLB (No Language Left Behind) model by Meta, which contains 600 million parameters. The application features a user-friendly interface built with Gradio, allowing users to input text and receive translations seamlessly."
   ]
  },
  {
   "cell_type": "markdown",
   "id": "87791c7d",
   "metadata": {},
   "source": [
    "## Features\n",
    "\n",
    "- **Multi-language Support**: Translate between 200 languages.\n",
    "- **Web Interface**: Utilize Gradio for easy text translation via a web interface.\n",
    "- **External Access**: Use Ngrok tunneling for accessing the translator from external URLs.\n",
    "- **Versatile Usage**: Available as a Python script for various environments.\n",
    "- **Notebook Integration**: Supports Jupyter Notebooks, making it compatible with Runpod and Google Colab."
   ]
  },
  {
   "cell_type": "markdown",
   "id": "867488ca",
   "metadata": {},
   "source": [
    "## Installation\n",
    "\n",
    "1. Clone the repository:\n",
    "   ```bash\n",
    "   git clone https://github.com/sioaeko/NLLB_Test_Translator.git\n",
    "   ```\n",
    "2. Install the required dependencies:\n",
    "   ```bash\n",
    "   pip install -r requirements.txt\n",
    "   ```"
   ]
  },
  {
   "cell_type": "markdown",
   "id": "1581a9cc",
   "metadata": {},
   "source": [
    "## Usage\n",
    "\n",
    "### Using Python Script\n",
    "Run the translator using the Python script:\n",
    "```bash\n",
    "python NLLB-translator.py\n",
    "```\n",
    "### Using Jupyter Notebook\n",
    "Open and run the `omnitrans.ipynb` notebook in Jupyter or Colab for an interactive experience."
   ]
  },
  {
   "cell_type": "markdown",
   "id": "be88f758",
   "metadata": {},
   "source": [
    "## Development Notes\n",
    "\n",
    "Development progress and additional documentation can be found on [Notion](https://asanari.notion.site/Sideproject-e50001f7e16944128be6735bb461069c?pvs=4)."
   ]
  },
  {
   "cell_type": "markdown",
   "id": "9c7089b2",
   "metadata": {},
   "source": [
    "## Contributing\n",
    "\n",
    "Feel free to submit issues and pull requests. Contributions are welcome!"
   ]
  },
  {
   "cell_type": "markdown",
   "id": "2d2f68e6",
   "metadata": {},
   "source": [
    "## License\n",
    "\n",
    "This project is licensed under the MIT License."
   ]
  },
  {
   "cell_type": "code",
   "execution_count": null,
   "id": "0f36f7dd",
   "metadata": {},
   "outputs": [],
   "source": [
    "# Below is the Python code from the NLLB-translator.py file\n",
    "# It will be executed when you run this notebook cell.\n",
    "!python NLLB-translator.py"
   ]
  }
 ],
 "metadata": {},
 "nbformat": 4,
 "nbformat_minor": 5
}
